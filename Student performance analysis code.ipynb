{
 "cells": [
  {
   "cell_type": "markdown",
   "id": "paperback-pharmacology",
   "metadata": {},
   "source": [
    "# 1.2\tModel implementation"
   ]
  },
  {
   "cell_type": "code",
   "execution_count": 1,
   "id": "sixth-faith",
   "metadata": {},
   "outputs": [],
   "source": [
    "import pandas as pd                \n",
    "import numpy as np                 \n",
    "import matplotlib.pyplot as plt    \n",
    "import seaborn as sns "
   ]
  },
  {
   "cell_type": "markdown",
   "id": "positive-national",
   "metadata": {},
   "source": [
    "Reading the Data"
   ]
  },
  {
   "cell_type": "code",
   "execution_count": 2,
   "id": "banner-median",
   "metadata": {},
   "outputs": [
    {
     "data": {
      "text/html": [
       "<div>\n",
       "<style scoped>\n",
       "    .dataframe tbody tr th:only-of-type {\n",
       "        vertical-align: middle;\n",
       "    }\n",
       "\n",
       "    .dataframe tbody tr th {\n",
       "        vertical-align: top;\n",
       "    }\n",
       "\n",
       "    .dataframe thead th {\n",
       "        text-align: right;\n",
       "    }\n",
       "</style>\n",
       "<table border=\"1\" class=\"dataframe\">\n",
       "  <thead>\n",
       "    <tr style=\"text-align: right;\">\n",
       "      <th></th>\n",
       "      <th>gender</th>\n",
       "      <th>race/ethnicity</th>\n",
       "      <th>parental level of education</th>\n",
       "      <th>lunch</th>\n",
       "      <th>test preparation course</th>\n",
       "      <th>DP score</th>\n",
       "      <th>reading score</th>\n",
       "      <th>writing score</th>\n",
       "    </tr>\n",
       "  </thead>\n",
       "  <tbody>\n",
       "    <tr>\n",
       "      <th>0</th>\n",
       "      <td>female</td>\n",
       "      <td>group B</td>\n",
       "      <td>bachelor's degree</td>\n",
       "      <td>standard</td>\n",
       "      <td>none</td>\n",
       "      <td>72</td>\n",
       "      <td>72</td>\n",
       "      <td>74</td>\n",
       "    </tr>\n",
       "    <tr>\n",
       "      <th>1</th>\n",
       "      <td>female</td>\n",
       "      <td>group C</td>\n",
       "      <td>some college</td>\n",
       "      <td>standard</td>\n",
       "      <td>completed</td>\n",
       "      <td>69</td>\n",
       "      <td>90</td>\n",
       "      <td>88</td>\n",
       "    </tr>\n",
       "    <tr>\n",
       "      <th>2</th>\n",
       "      <td>female</td>\n",
       "      <td>group B</td>\n",
       "      <td>master's degree</td>\n",
       "      <td>standard</td>\n",
       "      <td>none</td>\n",
       "      <td>90</td>\n",
       "      <td>95</td>\n",
       "      <td>93</td>\n",
       "    </tr>\n",
       "    <tr>\n",
       "      <th>3</th>\n",
       "      <td>male</td>\n",
       "      <td>group A</td>\n",
       "      <td>associate's degree</td>\n",
       "      <td>free/reduced</td>\n",
       "      <td>none</td>\n",
       "      <td>47</td>\n",
       "      <td>57</td>\n",
       "      <td>44</td>\n",
       "    </tr>\n",
       "    <tr>\n",
       "      <th>4</th>\n",
       "      <td>male</td>\n",
       "      <td>group C</td>\n",
       "      <td>some college</td>\n",
       "      <td>standard</td>\n",
       "      <td>none</td>\n",
       "      <td>76</td>\n",
       "      <td>78</td>\n",
       "      <td>75</td>\n",
       "    </tr>\n",
       "    <tr>\n",
       "      <th>...</th>\n",
       "      <td>...</td>\n",
       "      <td>...</td>\n",
       "      <td>...</td>\n",
       "      <td>...</td>\n",
       "      <td>...</td>\n",
       "      <td>...</td>\n",
       "      <td>...</td>\n",
       "      <td>...</td>\n",
       "    </tr>\n",
       "    <tr>\n",
       "      <th>995</th>\n",
       "      <td>female</td>\n",
       "      <td>group E</td>\n",
       "      <td>master's degree</td>\n",
       "      <td>standard</td>\n",
       "      <td>completed</td>\n",
       "      <td>88</td>\n",
       "      <td>99</td>\n",
       "      <td>95</td>\n",
       "    </tr>\n",
       "    <tr>\n",
       "      <th>996</th>\n",
       "      <td>male</td>\n",
       "      <td>group C</td>\n",
       "      <td>high school</td>\n",
       "      <td>free/reduced</td>\n",
       "      <td>none</td>\n",
       "      <td>62</td>\n",
       "      <td>55</td>\n",
       "      <td>55</td>\n",
       "    </tr>\n",
       "    <tr>\n",
       "      <th>997</th>\n",
       "      <td>female</td>\n",
       "      <td>group C</td>\n",
       "      <td>high school</td>\n",
       "      <td>free/reduced</td>\n",
       "      <td>completed</td>\n",
       "      <td>59</td>\n",
       "      <td>71</td>\n",
       "      <td>65</td>\n",
       "    </tr>\n",
       "    <tr>\n",
       "      <th>998</th>\n",
       "      <td>female</td>\n",
       "      <td>group D</td>\n",
       "      <td>some college</td>\n",
       "      <td>standard</td>\n",
       "      <td>completed</td>\n",
       "      <td>68</td>\n",
       "      <td>78</td>\n",
       "      <td>77</td>\n",
       "    </tr>\n",
       "    <tr>\n",
       "      <th>999</th>\n",
       "      <td>female</td>\n",
       "      <td>group D</td>\n",
       "      <td>some college</td>\n",
       "      <td>free/reduced</td>\n",
       "      <td>none</td>\n",
       "      <td>77</td>\n",
       "      <td>86</td>\n",
       "      <td>86</td>\n",
       "    </tr>\n",
       "  </tbody>\n",
       "</table>\n",
       "<p>1000 rows × 8 columns</p>\n",
       "</div>"
      ],
      "text/plain": [
       "     gender race/ethnicity parental level of education         lunch  \\\n",
       "0    female        group B           bachelor's degree      standard   \n",
       "1    female        group C                some college      standard   \n",
       "2    female        group B             master's degree      standard   \n",
       "3      male        group A          associate's degree  free/reduced   \n",
       "4      male        group C                some college      standard   \n",
       "..      ...            ...                         ...           ...   \n",
       "995  female        group E             master's degree      standard   \n",
       "996    male        group C                 high school  free/reduced   \n",
       "997  female        group C                 high school  free/reduced   \n",
       "998  female        group D                some college      standard   \n",
       "999  female        group D                some college  free/reduced   \n",
       "\n",
       "    test preparation course  DP score  reading score  writing score  \n",
       "0                      none        72             72             74  \n",
       "1                 completed        69             90             88  \n",
       "2                      none        90             95             93  \n",
       "3                      none        47             57             44  \n",
       "4                      none        76             78             75  \n",
       "..                      ...       ...            ...            ...  \n",
       "995               completed        88             99             95  \n",
       "996                    none        62             55             55  \n",
       "997               completed        59             71             65  \n",
       "998               completed        68             78             77  \n",
       "999                    none        77             86             86  \n",
       "\n",
       "[1000 rows x 8 columns]"
      ]
     },
     "execution_count": 2,
     "metadata": {},
     "output_type": "execute_result"
    }
   ],
   "source": [
    "df = pd.read_csv(r'C:\\Users\\HP\\Downloads\\student_performance.csv')\n",
    "df"
   ]
  },
  {
   "cell_type": "code",
   "execution_count": 3,
   "id": "wanted-processing",
   "metadata": {},
   "outputs": [
    {
     "name": "stdout",
     "output_type": "stream",
     "text": [
      "<class 'pandas.core.frame.DataFrame'>\n",
      "RangeIndex: 1000 entries, 0 to 999\n",
      "Data columns (total 8 columns):\n",
      " #   Column                       Non-Null Count  Dtype \n",
      "---  ------                       --------------  ----- \n",
      " 0   gender                       1000 non-null   object\n",
      " 1   race/ethnicity               1000 non-null   object\n",
      " 2   parental level of education  1000 non-null   object\n",
      " 3   lunch                        1000 non-null   object\n",
      " 4   test preparation course      1000 non-null   object\n",
      " 5   DP score                     1000 non-null   int64 \n",
      " 6   reading score                1000 non-null   int64 \n",
      " 7   writing score                1000 non-null   int64 \n",
      "dtypes: int64(3), object(5)\n",
      "memory usage: 62.6+ KB\n"
     ]
    }
   ],
   "source": [
    "df.info()"
   ]
  },
  {
   "cell_type": "markdown",
   "id": "thermal-terry",
   "metadata": {},
   "source": [
    "Cleaning the data . Checking for null values in data"
   ]
  },
  {
   "cell_type": "code",
   "execution_count": 4,
   "id": "another-column",
   "metadata": {},
   "outputs": [
    {
     "data": {
      "text/plain": [
       "gender                         0\n",
       "race/ethnicity                 0\n",
       "parental level of education    0\n",
       "lunch                          0\n",
       "test preparation course        0\n",
       "DP score                       0\n",
       "reading score                  0\n",
       "writing score                  0\n",
       "dtype: int64"
      ]
     },
     "execution_count": 4,
     "metadata": {},
     "output_type": "execute_result"
    }
   ],
   "source": [
    "df.isnull().sum()"
   ]
  },
  {
   "cell_type": "code",
   "execution_count": 5,
   "id": "equal-interstate",
   "metadata": {},
   "outputs": [
    {
     "data": {
      "text/plain": [
       "(1000, 8)"
      ]
     },
     "execution_count": 5,
     "metadata": {},
     "output_type": "execute_result"
    }
   ],
   "source": [
    "df.shape"
   ]
  },
  {
   "cell_type": "code",
   "execution_count": 6,
   "id": "associate-height",
   "metadata": {},
   "outputs": [
    {
     "data": {
      "text/html": [
       "<div>\n",
       "<style scoped>\n",
       "    .dataframe tbody tr th:only-of-type {\n",
       "        vertical-align: middle;\n",
       "    }\n",
       "\n",
       "    .dataframe tbody tr th {\n",
       "        vertical-align: top;\n",
       "    }\n",
       "\n",
       "    .dataframe thead th {\n",
       "        text-align: right;\n",
       "    }\n",
       "</style>\n",
       "<table border=\"1\" class=\"dataframe\">\n",
       "  <thead>\n",
       "    <tr style=\"text-align: right;\">\n",
       "      <th></th>\n",
       "      <th>DP score</th>\n",
       "      <th>reading score</th>\n",
       "      <th>writing score</th>\n",
       "    </tr>\n",
       "  </thead>\n",
       "  <tbody>\n",
       "    <tr>\n",
       "      <th>count</th>\n",
       "      <td>1000.00000</td>\n",
       "      <td>1000.000000</td>\n",
       "      <td>1000.000000</td>\n",
       "    </tr>\n",
       "    <tr>\n",
       "      <th>mean</th>\n",
       "      <td>66.08900</td>\n",
       "      <td>69.169000</td>\n",
       "      <td>68.054000</td>\n",
       "    </tr>\n",
       "    <tr>\n",
       "      <th>std</th>\n",
       "      <td>15.16308</td>\n",
       "      <td>14.600192</td>\n",
       "      <td>15.195657</td>\n",
       "    </tr>\n",
       "    <tr>\n",
       "      <th>min</th>\n",
       "      <td>0.00000</td>\n",
       "      <td>17.000000</td>\n",
       "      <td>10.000000</td>\n",
       "    </tr>\n",
       "    <tr>\n",
       "      <th>25%</th>\n",
       "      <td>57.00000</td>\n",
       "      <td>59.000000</td>\n",
       "      <td>57.750000</td>\n",
       "    </tr>\n",
       "    <tr>\n",
       "      <th>50%</th>\n",
       "      <td>66.00000</td>\n",
       "      <td>70.000000</td>\n",
       "      <td>69.000000</td>\n",
       "    </tr>\n",
       "    <tr>\n",
       "      <th>75%</th>\n",
       "      <td>77.00000</td>\n",
       "      <td>79.000000</td>\n",
       "      <td>79.000000</td>\n",
       "    </tr>\n",
       "    <tr>\n",
       "      <th>max</th>\n",
       "      <td>100.00000</td>\n",
       "      <td>100.000000</td>\n",
       "      <td>100.000000</td>\n",
       "    </tr>\n",
       "  </tbody>\n",
       "</table>\n",
       "</div>"
      ],
      "text/plain": [
       "         DP score  reading score  writing score\n",
       "count  1000.00000    1000.000000    1000.000000\n",
       "mean     66.08900      69.169000      68.054000\n",
       "std      15.16308      14.600192      15.195657\n",
       "min       0.00000      17.000000      10.000000\n",
       "25%      57.00000      59.000000      57.750000\n",
       "50%      66.00000      70.000000      69.000000\n",
       "75%      77.00000      79.000000      79.000000\n",
       "max     100.00000     100.000000     100.000000"
      ]
     },
     "execution_count": 6,
     "metadata": {},
     "output_type": "execute_result"
    }
   ],
   "source": [
    "df.describe()"
   ]
  },
  {
   "cell_type": "markdown",
   "id": "proved-electron",
   "metadata": {},
   "source": [
    "# Checking each columns features"
   ]
  },
  {
   "cell_type": "code",
   "execution_count": 7,
   "id": "naked-coalition",
   "metadata": {},
   "outputs": [
    {
     "name": "stdout",
     "output_type": "stream",
     "text": [
      "1 .  female\n",
      "2 .  male\n"
     ]
    }
   ],
   "source": [
    "#1. Gender\n",
    "count  = 0\n",
    "for i in df['gender'].unique():\n",
    "    count = count + 1\n",
    "    print(count,'. ',i)"
   ]
  },
  {
   "cell_type": "code",
   "execution_count": 8,
   "id": "outer-procedure",
   "metadata": {},
   "outputs": [
    {
     "name": "stdout",
     "output_type": "stream",
     "text": [
      "1 .  group A\n",
      "2 .  group B\n",
      "3 .  group C\n",
      "4 .  group D\n",
      "5 .  group E\n",
      "Number of different races/ethnicity of people:  5\n"
     ]
    }
   ],
   "source": [
    "#2. Race/Ehtnicity of People\n",
    "count = 0\n",
    "for i in sorted(df['race/ethnicity'].unique()):\n",
    "    count = count + 1\n",
    "    print(count, '. ',i)\n",
    "print('Number of different races/ethnicity of people: ', df['race/ethnicity'].nunique())"
   ]
  },
  {
   "cell_type": "code",
   "execution_count": 9,
   "id": "answering-cornell",
   "metadata": {},
   "outputs": [
    {
     "name": "stdout",
     "output_type": "stream",
     "text": [
      "1 .  bachelor's degree\n",
      "2 .  some college\n",
      "3 .  master's degree\n",
      "4 .  associate's degree\n",
      "5 .  high school\n",
      "6 .  some high school\n"
     ]
    }
   ],
   "source": [
    "#3. Parent's level of Education\n",
    "count = 0\n",
    "for i in df['parental level of education'].unique():\n",
    "    count = count + 1\n",
    "    print(count, '. ', i)"
   ]
  },
  {
   "cell_type": "code",
   "execution_count": 10,
   "id": "united-breach",
   "metadata": {},
   "outputs": [
    {
     "name": "stdout",
     "output_type": "stream",
     "text": [
      "1 .  standard\n",
      "2 .  free/reduced\n"
     ]
    }
   ],
   "source": [
    "#4. Different types of lunches\n",
    "count  = 0\n",
    "for i in df['lunch'].unique():\n",
    "    count = count + 1\n",
    "    print(count,'. ',i)"
   ]
  },
  {
   "cell_type": "code",
   "execution_count": 11,
   "id": "defensive-barbados",
   "metadata": {},
   "outputs": [
    {
     "name": "stdout",
     "output_type": "stream",
     "text": [
      "1 . none\n",
      "2 . completed\n"
     ]
    }
   ],
   "source": [
    "#5. Types of Test Prepration Course\n",
    "count  = 0\n",
    "for i in df['test preparation course'].unique():\n",
    "    count = count + 1\n",
    "    print(count,'.',i)"
   ]
  },
  {
   "cell_type": "markdown",
   "id": "arranged-beauty",
   "metadata": {},
   "source": [
    "# Exploratory Data Analysis"
   ]
  },
  {
   "cell_type": "code",
   "execution_count": 16,
   "id": "upset-stevens",
   "metadata": {},
   "outputs": [],
   "source": [
    "\n",
    "sns.set_style('darkgrid')"
   ]
  },
  {
   "cell_type": "code",
   "execution_count": 18,
   "id": "noted-buffer",
   "metadata": {},
   "outputs": [
    {
     "data": {
      "image/png": "[encoded data removed]",
      "text/plain": [
       "<Figure size 432x288 with 2 Axes>"
      ]
     },
     "metadata": {},
     "output_type": "display_data"
    }
   ],
   "source": [
    "# Heatmap\n",
    "sns.heatmap(df.corr(), annot = True, cmap='inferno')\n",
    "plt.show()\n",
    "\n"
   ]
  },
  {
   "cell_type": "markdown",
   "id": "dried-printing",
   "metadata": {},
   "source": [
    "There is strong correlation between a student's reading score & writing score, reading score & DP score and writing score & DP score"
   ]
  },
  {
   "cell_type": "markdown",
   "id": "approximate-harbor",
   "metadata": {},
   "source": [
    "# Plotting the distribution of students marks"
   ]
  },
  {
   "cell_type": "code",
   "execution_count": 12,
   "id": "based-jesus",
   "metadata": {},
   "outputs": [
    {
     "name": "stderr",
     "output_type": "stream",
     "text": [
      "c:\\users\\hp\\appdata\\local\\programs\\python\\python39\\lib\\site-packages\\seaborn\\distributions.py:2557: FutureWarning: `distplot` is a deprecated function and will be removed in a future version. Please adapt your code to use either `displot` (a figure-level function with similar flexibility) or `histplot` (an axes-level function for histograms).\n",
      "  warnings.warn(msg, FutureWarning)\n"
     ]
    },
    {
     "data": {
      "image/png": "[encoded data removed]",
      "text/plain": [
       "<Figure size 576x360 with 1 Axes>"
      ]
     },
     "metadata": {
      "needs_background": "light"
     },
     "output_type": "display_data"
    }
   ],
   "source": [
    "#1.DP Score\n",
    "\n",
    "plt.figure(figsize=(8,5))\n",
    "sns.distplot(df['DP score'], kde = False, color='m', bins = 30)\n",
    "plt.ylabel('Frequency')\n",
    "plt.title('DP Score Distribution')\n",
    "plt.show()"
   ]
  },
  {
   "cell_type": "code",
   "execution_count": 13,
   "id": "photographic-contest",
   "metadata": {},
   "outputs": [
    {
     "data": {
      "image/png": "[encoded data removed]",
      "text/plain": [
       "<Figure size 576x360 with 1 Axes>"
      ]
     },
     "metadata": {
      "needs_background": "light"
     },
     "output_type": "display_data"
    }
   ],
   "source": [
    "#2. Reading Score\n",
    "plt.figure(figsize=(8,5))\n",
    "sns.distplot(df['reading score'], kde = False, color='r', bins = 30)\n",
    "plt.ylabel('Frequency')\n",
    "plt.title('Reading Score Distribution')\n",
    "plt.show()\n"
   ]
  },
  {
   "cell_type": "code",
   "execution_count": 14,
   "id": "seeing-driver",
   "metadata": {},
   "outputs": [
    {
     "data": {
      "image/png": "[encoded data removed]",
      "text/plain": [
       "<Figure size 576x360 with 1 Axes>"
      ]
     },
     "metadata": {
      "needs_background": "light"
     },
     "output_type": "display_data"
    }
   ],
   "source": [
    "#3. Writing Score\n",
    "plt.figure(figsize=(8,5))\n",
    "sns.distplot(df['writing score'], kde = False, color='blue', bins = 30)\n",
    "plt.ylabel('Frequency')\n",
    "plt.title('Writing Score Distribution')\n",
    "plt.show()"
   ]
  },
  {
   "cell_type": "markdown",
   "id": "determined-overhead",
   "metadata": {},
   "source": [
    "# Number of Students having maximum marks in all three categories"
   ]
  },
  {
   "cell_type": "code",
   "execution_count": 15,
   "id": "knowing-seminar",
   "metadata": {},
   "outputs": [
    {
     "data": {
      "text/html": [
       "<div>\n",
       "<style scoped>\n",
       "    .dataframe tbody tr th:only-of-type {\n",
       "        vertical-align: middle;\n",
       "    }\n",
       "\n",
       "    .dataframe tbody tr th {\n",
       "        vertical-align: top;\n",
       "    }\n",
       "\n",
       "    .dataframe thead th {\n",
       "        text-align: right;\n",
       "    }\n",
       "</style>\n",
       "<table border=\"1\" class=\"dataframe\">\n",
       "  <thead>\n",
       "    <tr style=\"text-align: right;\">\n",
       "      <th></th>\n",
       "      <th>gender</th>\n",
       "      <th>race/ethnicity</th>\n",
       "      <th>parental level of education</th>\n",
       "      <th>lunch</th>\n",
       "      <th>test preparation course</th>\n",
       "      <th>DP score</th>\n",
       "      <th>reading score</th>\n",
       "      <th>writing score</th>\n",
       "    </tr>\n",
       "  </thead>\n",
       "  <tbody>\n",
       "    <tr>\n",
       "      <th>458</th>\n",
       "      <td>female</td>\n",
       "      <td>group E</td>\n",
       "      <td>bachelor's degree</td>\n",
       "      <td>standard</td>\n",
       "      <td>none</td>\n",
       "      <td>100</td>\n",
       "      <td>100</td>\n",
       "      <td>100</td>\n",
       "    </tr>\n",
       "    <tr>\n",
       "      <th>916</th>\n",
       "      <td>male</td>\n",
       "      <td>group E</td>\n",
       "      <td>bachelor's degree</td>\n",
       "      <td>standard</td>\n",
       "      <td>completed</td>\n",
       "      <td>100</td>\n",
       "      <td>100</td>\n",
       "      <td>100</td>\n",
       "    </tr>\n",
       "    <tr>\n",
       "      <th>962</th>\n",
       "      <td>female</td>\n",
       "      <td>group E</td>\n",
       "      <td>associate's degree</td>\n",
       "      <td>standard</td>\n",
       "      <td>none</td>\n",
       "      <td>100</td>\n",
       "      <td>100</td>\n",
       "      <td>100</td>\n",
       "    </tr>\n",
       "  </tbody>\n",
       "</table>\n",
       "</div>"
      ],
      "text/plain": [
       "     gender race/ethnicity parental level of education     lunch  \\\n",
       "458  female        group E           bachelor's degree  standard   \n",
       "916    male        group E           bachelor's degree  standard   \n",
       "962  female        group E          associate's degree  standard   \n",
       "\n",
       "    test preparation course  DP score  reading score  writing score  \n",
       "458                    none       100            100            100  \n",
       "916               completed       100            100            100  \n",
       "962                    none       100            100            100  "
      ]
     },
     "execution_count": 15,
     "metadata": {},
     "output_type": "execute_result"
    }
   ],
   "source": [
    " \n",
    "perfect_writing = df['writing score'] == 100\n",
    "perfect_reading = df['reading score'] == 100\n",
    "perfect_math = df['DP score'] == 100\n",
    "\n",
    "perfect_score = df[(perfect_math) & (perfect_reading) & (perfect_writing)]\n",
    "perfect_score"
   ]
  },
  {
   "cell_type": "code",
   "execution_count": 16,
   "id": "adaptive-documentary",
   "metadata": {},
   "outputs": [
    {
     "name": "stdout",
     "output_type": "stream",
     "text": [
      "Number of students having maximum marks in all three subjects:  3\n"
     ]
    }
   ],
   "source": [
    "print('Number of students having maximum marks in all three subjects: ',len(perfect_score))"
   ]
  },
  {
   "cell_type": "code",
   "execution_count": 17,
   "id": "ecological-effectiveness",
   "metadata": {},
   "outputs": [
    {
     "data": {
      "text/html": [
       "<div>\n",
       "<style scoped>\n",
       "    .dataframe tbody tr th:only-of-type {\n",
       "        vertical-align: middle;\n",
       "    }\n",
       "\n",
       "    .dataframe tbody tr th {\n",
       "        vertical-align: top;\n",
       "    }\n",
       "\n",
       "    .dataframe thead th {\n",
       "        text-align: right;\n",
       "    }\n",
       "</style>\n",
       "<table border=\"1\" class=\"dataframe\">\n",
       "  <thead>\n",
       "    <tr style=\"text-align: right;\">\n",
       "      <th></th>\n",
       "      <th>gender</th>\n",
       "      <th>race/ethnicity</th>\n",
       "      <th>parental level of education</th>\n",
       "      <th>lunch</th>\n",
       "      <th>test preparation course</th>\n",
       "      <th>DP score</th>\n",
       "      <th>reading score</th>\n",
       "      <th>writing score</th>\n",
       "    </tr>\n",
       "  </thead>\n",
       "  <tbody>\n",
       "    <tr>\n",
       "      <th>458</th>\n",
       "      <td>female</td>\n",
       "      <td>group E</td>\n",
       "      <td>bachelor's degree</td>\n",
       "      <td>standard</td>\n",
       "      <td>none</td>\n",
       "      <td>100</td>\n",
       "      <td>100</td>\n",
       "      <td>100</td>\n",
       "    </tr>\n",
       "    <tr>\n",
       "      <th>916</th>\n",
       "      <td>male</td>\n",
       "      <td>group E</td>\n",
       "      <td>bachelor's degree</td>\n",
       "      <td>standard</td>\n",
       "      <td>completed</td>\n",
       "      <td>100</td>\n",
       "      <td>100</td>\n",
       "      <td>100</td>\n",
       "    </tr>\n",
       "    <tr>\n",
       "      <th>962</th>\n",
       "      <td>female</td>\n",
       "      <td>group E</td>\n",
       "      <td>associate's degree</td>\n",
       "      <td>standard</td>\n",
       "      <td>none</td>\n",
       "      <td>100</td>\n",
       "      <td>100</td>\n",
       "      <td>100</td>\n",
       "    </tr>\n",
       "  </tbody>\n",
       "</table>\n",
       "</div>"
      ],
      "text/plain": [
       "     gender race/ethnicity parental level of education     lunch  \\\n",
       "458  female        group E           bachelor's degree  standard   \n",
       "916    male        group E           bachelor's degree  standard   \n",
       "962  female        group E          associate's degree  standard   \n",
       "\n",
       "    test preparation course  DP score  reading score  writing score  \n",
       "458                    none       100            100            100  \n",
       "916               completed       100            100            100  \n",
       "962                    none       100            100            100  "
      ]
     },
     "execution_count": 17,
     "metadata": {},
     "output_type": "execute_result"
    }
   ],
   "source": [
    "perfect_writing = df['writing score'] == 100\n",
    "perfect_reading = df['reading score'] == 100\n",
    "perfect_DP = df['DP score'] == 100\n",
    "\n",
    "perfect_score = df[(perfect_DP) & (perfect_reading) & (perfect_writing)]\n",
    "perfect_score"
   ]
  },
  {
   "cell_type": "code",
   "execution_count": null,
   "id": "voluntary-impression",
   "metadata": {},
   "outputs": [],
   "source": []
  },
  {
   "cell_type": "markdown",
   "id": "sharp-maker",
   "metadata": {},
   "source": [
    "# Number of Students having minimum marks in all three categories"
   ]
  },
  {
   "cell_type": "code",
   "execution_count": 19,
   "id": "outstanding-healthcare",
   "metadata": {},
   "outputs": [
    {
     "data": {
      "text/html": [
       "<div>\n",
       "<style scoped>\n",
       "    .dataframe tbody tr th:only-of-type {\n",
       "        vertical-align: middle;\n",
       "    }\n",
       "\n",
       "    .dataframe tbody tr th {\n",
       "        vertical-align: top;\n",
       "    }\n",
       "\n",
       "    .dataframe thead th {\n",
       "        text-align: right;\n",
       "    }\n",
       "</style>\n",
       "<table border=\"1\" class=\"dataframe\">\n",
       "  <thead>\n",
       "    <tr style=\"text-align: right;\">\n",
       "      <th></th>\n",
       "      <th>gender</th>\n",
       "      <th>race/ethnicity</th>\n",
       "      <th>parental level of education</th>\n",
       "      <th>lunch</th>\n",
       "      <th>test preparation course</th>\n",
       "      <th>DP score</th>\n",
       "      <th>reading score</th>\n",
       "      <th>writing score</th>\n",
       "    </tr>\n",
       "  </thead>\n",
       "  <tbody>\n",
       "    <tr>\n",
       "      <th>59</th>\n",
       "      <td>female</td>\n",
       "      <td>group C</td>\n",
       "      <td>some high school</td>\n",
       "      <td>free/reduced</td>\n",
       "      <td>none</td>\n",
       "      <td>0</td>\n",
       "      <td>17</td>\n",
       "      <td>10</td>\n",
       "    </tr>\n",
       "  </tbody>\n",
       "</table>\n",
       "</div>"
      ],
      "text/plain": [
       "    gender race/ethnicity parental level of education         lunch  \\\n",
       "59  female        group C            some high school  free/reduced   \n",
       "\n",
       "   test preparation course  DP score  reading score  writing score  \n",
       "59                    none         0             17             10  "
      ]
     },
     "execution_count": 19,
     "metadata": {},
     "output_type": "execute_result"
    }
   ],
   "source": [
    "minimum_dp = df['DP score'] == 0\n",
    "minimum_reading = df['reading score'] == 17\n",
    "minimum_writing = df['writing score'] == 10\n",
    "\n",
    "\n",
    "\n",
    "minimum_score = df[(minimum_dp) & (minimum_reading) & (minimum_writing)]\n",
    "minimum_score"
   ]
  },
  {
   "cell_type": "markdown",
   "id": "usual-omaha",
   "metadata": {},
   "source": [
    "# part c"
   ]
  },
  {
   "cell_type": "markdown",
   "id": "waiting-passenger",
   "metadata": {},
   "source": [
    "# C.1 Results and analysis"
   ]
  },
  {
   "cell_type": "markdown",
   "id": "competitive-cheese",
   "metadata": {},
   "source": [
    "# Data Visualization and Interpretation"
   ]
  },
  {
   "cell_type": "markdown",
   "id": "paperback-pursuit",
   "metadata": {},
   "source": [
    "1. Bar Plot of Scores according to gender\n"
   ]
  },
  {
   "cell_type": "code",
   "execution_count": 20,
   "id": "cutting-compound",
   "metadata": {},
   "outputs": [
    {
     "data": {
      "image/png": "[encoded data removed]",
      "text/plain": [
       "<Figure size 720x288 with 3 Axes>"
      ]
     },
     "metadata": {
      "needs_background": "light"
     },
     "output_type": "display_data"
    }
   ],
   "source": [
    "plt.figure(figsize=(10,4))\n",
    "\n",
    "plt.subplot(1,3,1)\n",
    "sns.barplot(x = 'gender', y = 'reading score', data = df)\n",
    "\n",
    "plt.subplot(1,3,2)\n",
    "sns.barplot(x = 'gender', y = 'writing score', data = df)\n",
    "\n",
    "plt.subplot(1,3,3)\n",
    "sns.barplot(x = 'gender', y = 'DP score', data = df)\n",
    "\n",
    "plt.tight_layout()"
   ]
  },
  {
   "cell_type": "markdown",
   "id": "ordered-control",
   "metadata": {},
   "source": [
    "2. Bar plot of Scores on the basis of Race/Ethnicity"
   ]
  },
  {
   "cell_type": "code",
   "execution_count": 21,
   "id": "square-archives",
   "metadata": {},
   "outputs": [
    {
     "data": {
      "image/png": "[encoded data removed]",
      "text/plain": [
       "<Figure size 1008x288 with 3 Axes>"
      ]
     },
     "metadata": {
      "needs_background": "light"
     },
     "output_type": "display_data"
    }
   ],
   "source": [
    "plt.figure(figsize=(14,4))\n",
    "\n",
    "plt.subplot(1,3,1)\n",
    "sns.barplot(x = 'race/ethnicity', y = 'reading score', data = df)\n",
    "plt.xticks(rotation = 90)\n",
    "\n",
    "plt.subplot(1,3,2)\n",
    "sns.barplot(x = 'race/ethnicity', y = 'writing score', data = df)\n",
    "plt.xticks(rotation = 90)\n",
    "\n",
    "plt.subplot(1,3,3)\n",
    "sns.barplot(x = 'race/ethnicity', y = 'DP score', data = df)\n",
    "plt.xticks(rotation = 90)\n",
    "\n",
    "plt.tight_layout()"
   ]
  },
  {
   "cell_type": "markdown",
   "id": "italic-salad",
   "metadata": {},
   "source": [
    "People from group E have higher score in all three categories, where as people from group A have the lowest score in all three categories"
   ]
  },
  {
   "cell_type": "markdown",
   "id": "eleven-charleston",
   "metadata": {},
   "source": [
    "3. Bar plots of Scores on the basis of Test Prepration Course"
   ]
  },
  {
   "cell_type": "code",
   "execution_count": 22,
   "id": "dynamic-scale",
   "metadata": {},
   "outputs": [
    {
     "data": {
      "image/png": "[encoded data removed]",
      "text/plain": [
       "<Figure size 1008x288 with 3 Axes>"
      ]
     },
     "metadata": {
      "needs_background": "light"
     },
     "output_type": "display_data"
    }
   ],
   "source": [
    "plt.figure(figsize=(14,4))\n",
    "\n",
    "plt.subplot(1,3,1)\n",
    "sns.barplot(x = 'test preparation course', y = 'reading score', hue = 'gender', data = df)\n",
    "\n",
    "plt.subplot(1,3,2)\n",
    "sns.barplot(x = 'test preparation course', y = 'writing score',hue = 'gender', data = df)\n",
    "\n",
    "plt.subplot(1,3,3)\n",
    "sns.barplot(x = 'test preparation course', y = 'DP score',hue = 'gender', data = df)\n",
    "\n",
    "plt.tight_layout()"
   ]
  },
  {
   "cell_type": "markdown",
   "id": "present-wellington",
   "metadata": {},
   "source": [
    "Students who have completed the Test Prepration Course have scores higher in all three categories than those who haven't taken the course"
   ]
  },
  {
   "cell_type": "markdown",
   "id": "sensitive-departure",
   "metadata": {},
   "source": [
    "4. Bar Plots of Scores on the basis of Parent's Education Level"
   ]
  },
  {
   "cell_type": "code",
   "execution_count": 23,
   "id": "precious-guarantee",
   "metadata": {},
   "outputs": [
    {
     "data": {
      "image/png": "[encoded data removed]",
      "text/plain": [
       "<Figure size 936x360 with 3 Axes>"
      ]
     },
     "metadata": {
      "needs_background": "light"
     },
     "output_type": "display_data"
    }
   ],
   "source": [
    "plt.figure(figsize=(13,5))\n",
    "\n",
    "plt.subplot(1,3,1)\n",
    "sns.barplot(x = 'parental level of education', y = 'reading score', data = df)\n",
    "plt.xticks(rotation = 90)\n",
    "\n",
    "plt.subplot(1,3,2)\n",
    "sns.barplot(x = 'parental level of education', y = 'writing score', data = df)\n",
    "plt.xticks(rotation = 90)\n",
    "\n",
    "plt.subplot(1,3,3)\n",
    "sns.barplot(x = 'parental level of education', y = 'DP score', data = df)\n",
    "plt.xticks(rotation = 90)\n",
    "\n",
    "plt.tight_layout()"
   ]
  },
  {
   "cell_type": "markdown",
   "id": "homeless-editing",
   "metadata": {},
   "source": [
    "Student's whose parents have a Master's degree have scored higher compared to others whereas Student's whose parent's went to high school have obtained low marks compared to others"
   ]
  },
  {
   "cell_type": "markdown",
   "id": "sophisticated-jesus",
   "metadata": {},
   "source": [
    "5. Bar Plots of Scores on the basis of Types of Luch"
   ]
  },
  {
   "cell_type": "code",
   "execution_count": 11,
   "id": "ambient-quilt",
   "metadata": {},
   "outputs": [
    {
     "data": {
      "image/png": "[encoded data removed]",
      "text/plain": [
       "<Figure size 1008x288 with 3 Axes>"
      ]
     },
     "metadata": {
      "needs_background": "light"
     },
     "output_type": "display_data"
    }
   ],
   "source": [
    "plt.figure(figsize=(14,4))\n",
    "\n",
    "plt.subplot(1,3,1)\n",
    "sns.barplot(x = 'lunch', y = 'reading score', data = df)\n",
    "\n",
    "plt.subplot(1,3,2)\n",
    "sns.barplot(x = 'lunch', y = 'writing score', data = df)\n",
    "\n",
    "plt.subplot(1,3,3)\n",
    "sns.barplot(x = 'lunch', y = 'DP score', data = df)\n",
    "\n",
    "\n",
    "plt.tight_layout()"
   ]
  },
  {
   "cell_type": "code",
   "execution_count": 32,
   "id": "deluxe-orbit",
   "metadata": {},
   "outputs": [],
   "source": [
    "import warnings\n",
    "warnings.filterwarnings('ignore')\n",
    "\n",
    "df['total_score'] = df['DP score'] + df['reading score'] + df['writing score']"
   ]
  },
  {
   "cell_type": "code",
   "execution_count": 33,
   "id": "supreme-powder",
   "metadata": {},
   "outputs": [],
   "source": [
    "passmarks = 40\n",
    "\n",
    "# creating a new column pass_math, this column will tell us whether the students are pass or fail\n",
    "df['pass_DP'] = np.where(df['DP score']< passmarks, 'Fail', 'Pass')\n",
    "df['pass_reading'] = np.where(df['reading score']< passmarks, 'Fail', 'Pass')\n",
    "df['pass_writing'] = np.where(df['writing score']< passmarks, 'Fail', 'Pass')"
   ]
  },
  {
   "cell_type": "code",
   "execution_count": 34,
   "id": "unlikely-assembly",
   "metadata": {},
   "outputs": [],
   "source": [
    "df['status'] = df.apply(lambda x : 'Fail' if x['pass_DP'] == 'Fail' or \n",
    "                           x['pass_reading'] == 'Fail' or x['pass_writing'] == 'Fail'\n",
    "                           else 'pass', axis = 1)\n"
   ]
  },
  {
   "cell_type": "code",
   "execution_count": 35,
   "id": "cognitive-treaty",
   "metadata": {},
   "outputs": [
    {
     "data": {
      "text/html": [
       "<div>\n",
       "<style scoped>\n",
       "    .dataframe tbody tr th:only-of-type {\n",
       "        vertical-align: middle;\n",
       "    }\n",
       "\n",
       "    .dataframe tbody tr th {\n",
       "        vertical-align: top;\n",
       "    }\n",
       "\n",
       "    .dataframe thead th {\n",
       "        text-align: right;\n",
       "    }\n",
       "</style>\n",
       "<table border=\"1\" class=\"dataframe\">\n",
       "  <thead>\n",
       "    <tr style=\"text-align: right;\">\n",
       "      <th></th>\n",
       "      <th>gender</th>\n",
       "      <th>race/ethnicity</th>\n",
       "      <th>parental level of education</th>\n",
       "      <th>lunch</th>\n",
       "      <th>test preparation course</th>\n",
       "      <th>DP score</th>\n",
       "      <th>reading score</th>\n",
       "      <th>writing score</th>\n",
       "      <th>pass_DP</th>\n",
       "      <th>pass_reading</th>\n",
       "      <th>pass_writing</th>\n",
       "      <th>status</th>\n",
       "      <th>total_score</th>\n",
       "    </tr>\n",
       "  </thead>\n",
       "  <tbody>\n",
       "    <tr>\n",
       "      <th>0</th>\n",
       "      <td>female</td>\n",
       "      <td>group B</td>\n",
       "      <td>bachelor's degree</td>\n",
       "      <td>standard</td>\n",
       "      <td>none</td>\n",
       "      <td>72</td>\n",
       "      <td>72</td>\n",
       "      <td>74</td>\n",
       "      <td>Pass</td>\n",
       "      <td>Pass</td>\n",
       "      <td>Pass</td>\n",
       "      <td>pass</td>\n",
       "      <td>218</td>\n",
       "    </tr>\n",
       "    <tr>\n",
       "      <th>1</th>\n",
       "      <td>female</td>\n",
       "      <td>group C</td>\n",
       "      <td>some college</td>\n",
       "      <td>standard</td>\n",
       "      <td>completed</td>\n",
       "      <td>69</td>\n",
       "      <td>90</td>\n",
       "      <td>88</td>\n",
       "      <td>Pass</td>\n",
       "      <td>Pass</td>\n",
       "      <td>Pass</td>\n",
       "      <td>pass</td>\n",
       "      <td>247</td>\n",
       "    </tr>\n",
       "    <tr>\n",
       "      <th>2</th>\n",
       "      <td>female</td>\n",
       "      <td>group B</td>\n",
       "      <td>master's degree</td>\n",
       "      <td>standard</td>\n",
       "      <td>none</td>\n",
       "      <td>90</td>\n",
       "      <td>95</td>\n",
       "      <td>93</td>\n",
       "      <td>Pass</td>\n",
       "      <td>Pass</td>\n",
       "      <td>Pass</td>\n",
       "      <td>pass</td>\n",
       "      <td>278</td>\n",
       "    </tr>\n",
       "    <tr>\n",
       "      <th>3</th>\n",
       "      <td>male</td>\n",
       "      <td>group A</td>\n",
       "      <td>associate's degree</td>\n",
       "      <td>free/reduced</td>\n",
       "      <td>none</td>\n",
       "      <td>47</td>\n",
       "      <td>57</td>\n",
       "      <td>44</td>\n",
       "      <td>Pass</td>\n",
       "      <td>Pass</td>\n",
       "      <td>Pass</td>\n",
       "      <td>pass</td>\n",
       "      <td>148</td>\n",
       "    </tr>\n",
       "    <tr>\n",
       "      <th>4</th>\n",
       "      <td>male</td>\n",
       "      <td>group C</td>\n",
       "      <td>some college</td>\n",
       "      <td>standard</td>\n",
       "      <td>none</td>\n",
       "      <td>76</td>\n",
       "      <td>78</td>\n",
       "      <td>75</td>\n",
       "      <td>Pass</td>\n",
       "      <td>Pass</td>\n",
       "      <td>Pass</td>\n",
       "      <td>pass</td>\n",
       "      <td>229</td>\n",
       "    </tr>\n",
       "  </tbody>\n",
       "</table>\n",
       "</div>"
      ],
      "text/plain": [
       "   gender race/ethnicity parental level of education         lunch  \\\n",
       "0  female        group B           bachelor's degree      standard   \n",
       "1  female        group C                some college      standard   \n",
       "2  female        group B             master's degree      standard   \n",
       "3    male        group A          associate's degree  free/reduced   \n",
       "4    male        group C                some college      standard   \n",
       "\n",
       "  test preparation course  DP score  reading score  writing score pass_DP  \\\n",
       "0                    none        72             72             74    Pass   \n",
       "1               completed        69             90             88    Pass   \n",
       "2                    none        90             95             93    Pass   \n",
       "3                    none        47             57             44    Pass   \n",
       "4                    none        76             78             75    Pass   \n",
       "\n",
       "  pass_reading pass_writing status  total_score  \n",
       "0         Pass         Pass   pass          218  \n",
       "1         Pass         Pass   pass          247  \n",
       "2         Pass         Pass   pass          278  \n",
       "3         Pass         Pass   pass          148  \n",
       "4         Pass         Pass   pass          229  "
      ]
     },
     "execution_count": 35,
     "metadata": {},
     "output_type": "execute_result"
    }
   ],
   "source": [
    "df.head()"
   ]
  },
  {
   "cell_type": "code",
   "execution_count": 36,
   "id": "marked-denial",
   "metadata": {},
   "outputs": [
    {
     "data": {
      "image/png": "[encoded data removed]",
      "text/plain": [
       "<Figure size 1080x648 with 1 Axes>"
      ]
     },
     "metadata": {
      "needs_background": "light"
     },
     "output_type": "display_data"
    }
   ],
   "source": [
    "from math import * \n",
    "import warnings\n",
    "warnings.filterwarnings('ignore')\n",
    "\n",
    "df['percentage'] = df['total_score']/3\n",
    "\n",
    "for i in range(0, 1000):\n",
    "    df['percentage'][i] = ceil(df['percentage'][i])\n",
    "\n",
    "plt.rcParams['figure.figsize'] = (15, 9)\n",
    "sns.distplot(df['percentage'], color = 'orange')\n",
    "\n",
    "plt.title('Comparison of percentage scored by all the students', fontweight = 30, fontsize = 20)\n",
    "plt.xlabel('Percentage scored')\n",
    "plt.ylabel('Count')\n",
    "plt.show()"
   ]
  },
  {
   "cell_type": "code",
   "execution_count": 37,
   "id": "bulgarian-david",
   "metadata": {},
   "outputs": [
    {
     "data": {
      "text/plain": [
       "B    260\n",
       "C    252\n",
       "D    223\n",
       "A    156\n",
       "O     58\n",
       "E     51\n",
       "Name: grades, dtype: int64"
      ]
     },
     "execution_count": 37,
     "metadata": {},
     "output_type": "execute_result"
    }
   ],
   "source": [
    "def getgrade(percentage, status):\n",
    "  if status == 'Fail':\n",
    "    return 'E'\n",
    "  if(percentage >= 90):\n",
    "    return 'O'\n",
    "  if(percentage >= 80):\n",
    "    return 'A'\n",
    "  if(percentage >= 70):\n",
    "    return 'B'\n",
    "  if(percentage >= 60):\n",
    "    return 'C'\n",
    "  if(percentage >= 40):\n",
    "    return 'D'\n",
    "  else :\n",
    "    return 'E'\n",
    "\n",
    "df['grades'] = df.apply(lambda x: getgrade(x['percentage'], x['status']), axis = 1 )\n",
    "\n",
    "df['grades'].value_counts()"
   ]
  },
  {
   "cell_type": "code",
   "execution_count": 42,
   "id": "interracial-application",
   "metadata": {},
   "outputs": [],
   "source": [
    "from sklearn.preprocessing import LabelEncoder\n",
    "\n",
    "# creating an encoder\n",
    "le = LabelEncoder()\n",
    "\n",
    "# label encoding for test preparation course\n",
    "df['test preparation course'] = le.fit_transform(df['test preparation course'])\n",
    "\n",
    "# label encoding for lunch\n",
    "df['lunch'] = le.fit_transform(df['lunch'])\n",
    "\n",
    "# label encoding for race/ethnicity\n",
    "# we have to map values to each of the categories\n",
    "df['race/ethnicity'] = df['race/ethnicity'].replace('group A', 1)\n",
    "df['race/ethnicity'] = df['race/ethnicity'].replace('group B', 2)\n",
    "df['race/ethnicity'] = df['race/ethnicity'].replace('group C', 3)\n",
    "df['race/ethnicity'] = df['race/ethnicity'].replace('group D', 4)\n",
    "df['race/ethnicity'] = df['race/ethnicity'].replace('group E', 5)\n",
    "\n",
    "# label encoding for parental level of education\n",
    "df['parental level of education'] = le.fit_transform(df['parental level of education'])\n",
    "\n",
    "#label encoding for gender\n",
    "df['gender'] = le.fit_transform(df['gender'])\n",
    "\n",
    "# label encoding for pass_math\n",
    "df['pass_DP'] = le.fit_transform(df['pass_DP'])\n",
    "\n",
    "# label encoding for pass_reading\n",
    "df['pass_reading'] = le.fit_transform(df['pass_reading'])\n",
    "\n",
    "# label encoding for pass_writing\n",
    "df['pass_writing'] = le.fit_transform(df['pass_writing'])\n",
    "\n",
    "# label encoding for status\n",
    "df['grades'] = le.fit_transform(df['grades'])\n",
    "df['status'] = le.fit_transform(df['status'])"
   ]
  },
  {
   "cell_type": "code",
   "execution_count": 43,
   "id": "english-projection",
   "metadata": {},
   "outputs": [
    {
     "name": "stdout",
     "output_type": "stream",
     "text": [
      "(1000, 14)\n",
      "(1000,)\n"
     ]
    }
   ],
   "source": [
    "x = df.iloc[:,:14]\n",
    "y = df.iloc[:,14]\n",
    "\n",
    "print(x.shape)\n",
    "print(y.shape)"
   ]
  },
  {
   "cell_type": "code",
   "execution_count": 44,
   "id": "enabling-twenty",
   "metadata": {},
   "outputs": [
    {
     "name": "stdout",
     "output_type": "stream",
     "text": [
      "(750, 14)\n",
      "(750,)\n",
      "(250, 14)\n",
      "(250,)\n",
      "     gender  race/ethnicity  parental level of education  lunch  \\\n",
      "726       0               5                            0      1   \n",
      "243       1               5                            4      1   \n",
      "342       0               2                            2      1   \n",
      "976       1               2                            4      0   \n",
      "919       1               2                            4      1   \n",
      "\n",
      "     test preparation course  DP score  reading score  writing score  pass_DP  \\\n",
      "726                        0        65             75             77        1   \n",
      "243                        1        59             51             43        1   \n",
      "342                        0        69             76             74        1   \n",
      "976                        0        60             62             60        1   \n",
      "919                        0        91             96             91        1   \n",
      "\n",
      "     pass_reading  pass_writing  status  total_score  percentage  \n",
      "726             1             1       1          217        73.0  \n",
      "243             1             1       1          153        51.0  \n",
      "342             1             1       1          219        73.0  \n",
      "976             1             1       1          182        61.0  \n",
      "919             1             1       1          278        93.0  \n"
     ]
    }
   ],
   "source": [
    "from sklearn.model_selection import train_test_split\n",
    "\n",
    "x_train, x_test, y_train, y_test = train_test_split(x, y, test_size = 0.25, random_state = 45)\n",
    "\n",
    "print(x_train.shape)\n",
    "print(y_train.shape)\n",
    "print(x_test.shape)\n",
    "print(y_test.shape)\n",
    "print(x_test.head())"
   ]
  },
  {
   "cell_type": "code",
   "execution_count": 45,
   "id": "structural-block",
   "metadata": {},
   "outputs": [],
   "source": [
    "from sklearn.preprocessing import MinMaxScaler\n",
    "\n",
    "# creating a scaler\n",
    "mm = MinMaxScaler()\n",
    "\n",
    "# feeding the independent variable into the scaler\n",
    "x_train = mm.fit_transform(x_train)\n",
    "x_test = mm.transform(x_test)"
   ]
  },
  {
   "cell_type": "markdown",
   "id": "addressed-circle",
   "metadata": {},
   "source": [
    "# Machine learning technique - Random Forest "
   ]
  },
  {
   "cell_type": "code",
   "execution_count": 46,
   "id": "historic-contest",
   "metadata": {},
   "outputs": [
    {
     "name": "stdout",
     "output_type": "stream",
     "text": [
      "Training Accuracy : 1.0\n",
      "Testing Accuracy : 1.0\n"
     ]
    }
   ],
   "source": [
    "from sklearn.ensemble import RandomForestClassifier\n",
    "\n",
    "# creating a model\n",
    "model = RandomForestClassifier()\n",
    "\n",
    "# feeding the training data to the model\n",
    "model.fit(x_train, y_train)\n",
    "\n",
    "# predicting the x-test results\n",
    "y_pred = model.predict(x_test)\n",
    "\n",
    "# calculating the accuracies\n",
    "print(\"Training Accuracy :\", model.score(x_train, y_train))\n",
    "print(\"Testing Accuracy :\", model.score(x_test, y_test))"
   ]
  },
  {
   "cell_type": "code",
   "execution_count": 47,
   "id": "declared-waterproof",
   "metadata": {},
   "outputs": [
    {
     "data": {
      "image/png": "[encoded data removed]",
      "text/plain": [
       "<Figure size 576x576 with 2 Axes>"
      ]
     },
     "metadata": {
      "needs_background": "light"
     },
     "output_type": "display_data"
    }
   ],
   "source": [
    "from sklearn.metrics import confusion_matrix\n",
    "\n",
    "# creating a confusion matrix\n",
    "cm = confusion_matrix(y_test, y_pred)\n",
    "\n",
    "# printing the confusion matrix\n",
    "plt.rcParams['figure.figsize'] = (8, 8)\n",
    "sns.heatmap(cm, annot = True, cmap = 'Reds')\n",
    "plt.title('Confusion Matrix for Random Forest', fontweight = 30, fontsize = 20)\n",
    "plt.show()"
   ]
  },
  {
   "cell_type": "code",
   "execution_count": null,
   "id": "crucial-niger",
   "metadata": {},
   "outputs": [],
   "source": []
  }
 ],
 "metadata": {
  "kernelspec": {
   "display_name": "Python 3",
   "language": "python",
   "name": "python3"
  },
  "language_info": {
   "codemirror_mode": {
    "name": "ipython",
    "version": 3
   },
   "file_extension": ".py",
   "mimetype": "text/x-python",
   "name": "python",
   "nbconvert_exporter": "python",
   "pygments_lexer": "ipython3",
   "version": "3.9.1"
  }
 },
 "nbformat": 4,
 "nbformat_minor": 5
}
